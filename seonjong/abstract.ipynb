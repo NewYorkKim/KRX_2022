{
 "cells": [
  {
   "cell_type": "markdown",
   "id": "2e425fa8",
   "metadata": {},
   "source": [
    "# 제 1회 KRX 금융 빅데이터 활용 아이디어 경진대회\n",
    "\n",
    "## Abstract\n",
    "<span style=\"font-size:110%\">기존의 경제학 및 자본시장에서는 합리적인 개인들이 주어진 정보를 모두 활용하여 이성적인 판단에 근거하여 행동한다고 전제하였습니다. 그렇지만 현실의 경제 및 자본시장에서는 개인들의 비이성적인 행동 양상을 보이는 경우가 많았고, 1990년대 이후로 이러한 비이성적인 행동을 설명하기 위해 행동 경제학(Behavioral Economics)이 주류로 등장하기 시작했습니다. 특히 행동 경제학파들은 자본 시장에서의 비이성적인 행동들이 존재하며, 자본 시장 참여자들의 잡음(noise) 혹은 감정(sentiment)이 수익률에 영향을 미친다는 것을 근거로 효율적 시장 가설이 완벽하지 않다고 주장했습니다.(Brown, 1999; Shleifer and Summers, 1990) 또한, 자본 시장의 비이성적인 행동은 한국 자본 시장에서도 비슷한 양상을 보인다는 것으로 나타났습니다.(Kim and Park, 2015)</span> \n",
    "\n",
    "<span style=\"font-size:110%\">저희 팀은 이러한 행동 경제학의 주장을 근거로 시장의 비이성적인 행동을 포착할 수 있는 방법을 고안하고자 합니다. 과거의 비이성적인 행동을 포착하기 위한 방법으로는 시카고옵션거래소 변동성지수(Chicago Board Options Exchange Volatility Index; VIX Index)를 사용하는 것이 대표적이었습니다. 하지만 최근 딥러닝 기법의 발전으로 문서를 분석하여 작성자의 감성을 분석하는 감성 분석(sentiment analysis) 기법의 정확도가 크게 향상하였습니다. 이에 따라 VIX 지수라는 시장의 참여 결과 데이터를 통해 참여자의 비이성적 행동을 포착하는 간접적인 방법이 아닌 댓글, SNS, 뉴스 등 시장 참여자와 관련된 문서를 감정 분석하여 감정에 따른 비이성적인 행동을 포착하려는 시도가 있었습니다(Li et al, 2021; 김명진 외 3, 2020; 홍성혁, 2020). 이러한 시도를 근거로 저희 팀은 다양한 문서 중에서 기존 연구에서 사용된 데이터이며, 특히 개인 투자자들의 감정을 파악하기에 용이한 네이버의 종목 토론방의 문서와 기존 연구에서 사용되지는 않았지만 최근 정보를 얻는데 많이 사용되고 있는 경로인 유튜브(삼프로TV)의 댓글을 감정 분석을 위한 데이터셋으로 선정하였습니다.</span> \n",
    "\n",
    "<span style=\"font-size:110%\">또한, CNN의 Fear and Greed Index와 alternative사의 Crypto Fear and Greed Index를 참고하여 저희 팀만의 공포탐욕 지수를 구성하고자 하였습니다. CNN의 공포탐욕 지수에서는 7가지의 지표(Market Momentum, Stock Price Breadth, Put and Call Options, Market Volatility, Safe Haven Demand, Junk Bond Demand)로 구성되어 있으며, 가상화폐의 공포탐욕 지수는 5가지 지표(Volatility, Market Momentum/Volume, Social Medai, Dominance, Trends)로 구성되어 있습니다. CNN의 경우에는 모두 기존의 주식 시장에서 보조 지표로 활용되는 것들과 채권시장의 수익률 등으로 지수가 구성되어 있으며, 가상화페의 경우 기존의 변동성과 모멘텀 등의 보조 지표를 차용함과 동시에 SNS나 구글 트렌드의 검색량 통계를 지수에 포함시킴으로써 기존의 보조지표와는 다른 지표를 포함시킨 것이 특징이라 할 수 있습니다.</span> \n",
    "    \n",
    "<span style=\"font-size:110%\">저희 팀은 위의 다양한 지표 중에서도 두 지수에 공통적으로 사용된 VIX 지수를 KRX에서 제공하는 VKOPSI 지수로 대체하여 포함시켰습니다. 또한, Baker와 Wurgler(2007)가 제안한 투자 심리지수에 포함되어 있는 거래회전율을 KTOP30 종목을 기준으로 일일 거래회전율(거래량 / 상장 주식 수)로 변형하여 지수에 포함시켰습니다. 또한, 거시적인 대외 환경을 고려할 수 있는 환율 데이터를 포함하였으며, 마지막으로 KTOP30 종목의 종목 토론방 데이터와 유튜브 댓글 데이터를 감성 분석한 후, 1과 0사이로 점수화하여 1에 가까울수록 탐욕에, 0에 가까울수록 공포에 가까운 감성을 나타내도록 조정하였습니다. 훈련 기간은 과열과 침체 양상을 보이는 2020년 6월 1일부터 2022년 6월 30일까지입니다.</span> "
   ]
  },
  {
   "cell_type": "markdown",
   "id": "2ce23cfa",
   "metadata": {},
   "source": [
    "# Reference\n",
    "\n",
    "- [Baker, M., & Stein, J. C. (2004). Market liquidity as a sentiment indicator. Journal of financial Markets, 7(3), 271-299.](https://www.sciencedirect.com/science/article/pii/S1386418103000466?casa_token=6ZNXw0hywx0AAAAA:S6i255nCrON4Sou3r5QOLb7i4-ygnFm0Hi_-O5HRuUwyMGKfKyyHF_R8D-6qs6h9kgyMnlmQK-8C)\n",
    "- [Baker, M., & Wurgler, J. (2007). Investor sentiment in the stock market. Journal of economic perspectives, 21(2), 129-152.](https://www.aeaweb.org/articles?id=10.1257/jep.21.2.129)\n",
    "- [Brown, G. W. (1999). Volatility, sentiment, and noise traders. Financial Analysts Journal, 55(2), 82-90.](https://www.tandfonline.com/doi/abs/10.2469/faj.v55.n2.2263?casa_token=tNmYH0GUpNsAAAAA:PAnxcWt9qq43nf3wY5Jy2ypgRYjbSOvvnO08gxFnXCbRwFWw2UCr4g8oMieJnFEylSKQFaHpfmQfp8s)\n",
    "- [Li, M., Li, W., Wang, F., Jia, X., & Rui, G. (2021). Applying BERT to analyze investor sentiment in stock market. Neural Computing and Applications, 33(10), 4663-4676.](https://link.springer.com/article/10.1007/s00521-020-05411-7)\n",
    "- [Shleifer, A., & Summers, L. H. (1990). The noise trader approach to finance. Journal of Economic perspectives, 4(2), 19-33.](https://www.aeaweb.org/articles?id=10.1257/jep.4.2.19)\n",
    "- [김명진 외 3.(2020). SNS감성 분석을 이용한 주가 방향성 예측 : 네이버 주식토론방 데이터를 이용하여. 한국전자거래학회지, 25(4), 61-75.](https://www.kci.go.kr/kciportal/ci/sereArticleSearch/ciSereArtiView.kci?sereArticleSearchBean.artiId=ART002650768)\n",
    "- [홍성혁. (2020). LSTM과 증시 뉴스를 활용한 텍스트 마이닝 기법 기반 주가 예측시스템 연구. 디지털융복합연구, 18(7), 223-228.](https://www.kci.go.kr/kciportal/ci/sereArticleSearch/ciSereArtiView.kci?sereArticleSearchBean.artiId=ART002610599)\n",
    "- CNN Fear & Greed Index. https://edition.cnn.com/markets/fear-and-greed. 2022.07.17.\n",
    "- alternative Crypto Fear and Greed Index. https://alternative.me/crypto/fear-and-greed-index. 2022.07.17."
   ]
  },
  {
   "cell_type": "code",
   "execution_count": null,
   "id": "dea6483c",
   "metadata": {},
   "outputs": [],
   "source": []
  }
 ],
 "metadata": {
  "kernelspec": {
   "display_name": "Python 3 (ipykernel)",
   "language": "python",
   "name": "python3"
  },
  "language_info": {
   "codemirror_mode": {
    "name": "ipython",
    "version": 3
   },
   "file_extension": ".py",
   "mimetype": "text/x-python",
   "name": "python",
   "nbconvert_exporter": "python",
   "pygments_lexer": "ipython3",
   "version": "3.9.13"
  }
 },
 "nbformat": 4,
 "nbformat_minor": 5
}
