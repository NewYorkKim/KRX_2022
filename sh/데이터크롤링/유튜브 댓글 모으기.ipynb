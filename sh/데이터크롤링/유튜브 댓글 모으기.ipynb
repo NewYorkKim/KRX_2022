{
 "cells": [
  {
   "cell_type": "code",
   "execution_count": 4,
   "metadata": {},
   "outputs": [
    {
     "name": "stderr",
     "output_type": "stream",
     "text": [
      "c:\\Users\\tmdgh\\anaconda3\\lib\\site-packages\\IPython\\core\\interactiveshell.py:3444: DtypeWarning: Columns (0) have mixed types.Specify dtype option on import or set low_memory=False.\n",
      "  exec(code_obj, self.user_global_ns, self.user_ns)\n"
     ]
    }
   ],
   "source": [
    "import pandas as pd\n",
    "\n",
    "sampro = pd.read_csv(r\"C:\\sh\\study\\krx데이콘\\krx_2022\\sh\\data\\sampro_comments.csv\")\n",
    "sampro = sampro[[\"video_date\",\"comment\"]]\n",
    "sampro.columns = [\"날짜\",\"댓글\"]\n",
    "td = ['2022-08-06', '2022-08-07', '2022-08-08', '2022-08-09']\n",
    "\n",
    "for date in td:\n",
    "    df = pd.read_csv(f\"C:/sh/study/krx데이콘/krx_2022/sh/data/sampro_{date}.csv\")\n",
    "    df = df[[\"video_date\",\"comment\"]]\n",
    "    df.columns = [\"날짜\",\"댓글\"]\n",
    "    sampro = pd.concat([sampro,df])\n",
    "\n"
   ]
  },
  {
   "cell_type": "code",
   "execution_count": 6,
   "metadata": {},
   "outputs": [],
   "source": [
    "root_path = \"C:/sh/study/krx데이콘/krx_2022/sh\"\n",
    "sampro.to_csv(root_path + f\"/data/youtube/sampro.csv\")"
   ]
  },
  {
   "cell_type": "code",
   "execution_count": null,
   "metadata": {},
   "outputs": [],
   "source": []
  }
 ],
 "metadata": {
  "kernelspec": {
   "display_name": "Python 3.9.7 ('base')",
   "language": "python",
   "name": "python3"
  },
  "language_info": {
   "codemirror_mode": {
    "name": "ipython",
    "version": 3
   },
   "file_extension": ".py",
   "mimetype": "text/x-python",
   "name": "python",
   "nbconvert_exporter": "python",
   "pygments_lexer": "ipython3",
   "version": "3.9.7"
  },
  "orig_nbformat": 4,
  "vscode": {
   "interpreter": {
    "hash": "2bc543695463befc13840ec3d47f38ad407b1992c7ad047a9a3023a6d142e755"
   }
  }
 },
 "nbformat": 4,
 "nbformat_minor": 2
}
