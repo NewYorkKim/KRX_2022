{
 "cells": [
  {
   "cell_type": "markdown",
   "metadata": {},
   "source": [
    "## 2.5 날짜별 데이터 정리\n",
    "+ krx30 종목토론방 댓글, 유튜브 댓글을 각 날짜별로 정리한 후, 2022-06-01 ~ 2022-06-30 한 달의 데이터를 예측에 사용했습니다."
   ]
  },
  {
   "cell_type": "code",
   "execution_count": null,
   "metadata": {},
   "outputs": [],
   "source": [
    "import pandas as pd\n",
    "\n",
    "# 파일 이름 불러오기\n",
    "ktop30_company = pd.read_excel(r'C:\\sh\\study\\krx데이콘\\krx_2022\\sh\\data\\data\\KODEX_KTOP_30_20220629.xlsx',header=2).drop(0,axis=0)['종목명']\n",
    "company_set = list(ktop30_company)\n",
    "company_set.append('sampro1')\n",
    "company_set.append('sampro2')"
   ]
  },
  {
   "cell_type": "code",
   "execution_count": null,
   "metadata": {},
   "outputs": [],
   "source": [
    "# 각각의 파일 불러오기\n",
    "folder_path = \"C:/sh/study/krx데이콘/krx_2022/sh/data/preprocessed\"\n",
    "\n",
    "# 모든 데이터를 하나의 리스트에 저장\n",
    "alldf = []\n",
    "for company in company_set:\n",
    "    df = pd.read_csv(folder_path + \"/\" + company + \".csv\")\n",
    "    if \"sampro\" in company:\n",
    "        df2 = df[[\"video_date\",\"댓글\",\"정제된 댓글\"]]\n",
    "        df2.columns = [\"날짜\",\"댓글\",\"정제된 댓글\"]\n",
    "    else:\n",
    "        df2 = df[[\"날짜\",\"댓글\",\"정제된 댓글\"]]\n",
    "    alldf.append(df2)\n",
    "\n",
    "# 날짜 형식을 년-월-일 로 \n",
    "for df in alldf:\n",
    "    date_list = []\n",
    "    print(len(df[\"날짜\"]))\n",
    "    for i in range(len(df[\"날짜\"])):\n",
    "        date_list.append(df[\"날짜\"][i][:10])\n",
    "    df[\"날짜\"] = date_list\n",
    "\n",
    "# 2022-06-01 ~ 2022-06-30 날짜 데이터를 각각 하나로 뭉침\n",
    "target_date = ['2022-06-01', '2022-06-02', '2022-06-03', '2022-06-04', '2022-06-05',\n",
    "               '2022-06-06', '2022-06-07', '2022-06-08', '2022-06-09', '2022-06-10',\n",
    "               '2022-06-11', '2022-06-12', '2022-06-13', '2022-06-14', '2022-06-15',\n",
    "               '2022-06-16', '2022-06-17', '2022-06-18', '2022-06-19', '2022-06-20',\n",
    "               '2022-06-21', '2022-06-22', '2022-06-23', '2022-06-24', '2022-06-25',\n",
    "               '2022-06-26', '2022-06-27', '2022-06-28', '2022-06-29', '2022-06-30',\n",
    "               '2022-05-31']\n",
    "td = sorted(target_date,reverse=True)\n",
    "all_date = []\n",
    "for df in alldf:\n",
    "    date_idx = dict()\n",
    "    for i in range(len(df[\"날짜\"])):\n",
    "        if df[\"날짜\"][i] in date_idx:\n",
    "            continue\n",
    "        else:\n",
    "            if df[\"날짜\"][i] in target_date:\n",
    "                date_idx[df[\"날짜\"][i]] = i\n",
    "    all_date.append(date_idx)\n",
    "for j in all_date:\n",
    "    for i in range(len(td)):\n",
    "        if td[i] in j:\n",
    "            continue\n",
    "        else:\n",
    "            j[td[i]] = 0\n",
    "for i in all_date:\n",
    "    if i[\"2022-05-31\"] == 0:\n",
    "        continue\n",
    "    for j in range(len(td)-2,0,-1):\n",
    "        if i[td[j]] == 0:\n",
    "            i[td[j]] = i[td[j+1]]\n",
    "for i in range(30):\n",
    "    print(i)\n",
    "    for c in range(32):\n",
    "        print(\"c = \",c)\n",
    "        df = alldf[c]\n",
    "        date_idx = all_date[c]\n",
    "        if c == 0:\n",
    "            df_day = df.iloc[date_idx[td[i]]:date_idx[td[i+1]]]\n",
    "        elif c == 30:\n",
    "            continue\n",
    "        else:\n",
    "            df_today = df.iloc[date_idx[td[i]]:date_idx[td[i+1]]]\n",
    "            df_day = pd.concat([df_day,df_today])\n",
    "    df_day.to_csv(td[i] + \".csv\")"
   ]
  },
  {
   "cell_type": "code",
   "execution_count": null,
   "metadata": {},
   "outputs": [],
   "source": []
  }
 ],
 "metadata": {
  "kernelspec": {
   "display_name": "Python 3.9.7 ('base')",
   "language": "python",
   "name": "python3"
  },
  "language_info": {
   "name": "python",
   "version": "3.9.7"
  },
  "orig_nbformat": 4,
  "vscode": {
   "interpreter": {
    "hash": "2bc543695463befc13840ec3d47f38ad407b1992c7ad047a9a3023a6d142e755"
   }
  }
 },
 "nbformat": 4,
 "nbformat_minor": 2
}
