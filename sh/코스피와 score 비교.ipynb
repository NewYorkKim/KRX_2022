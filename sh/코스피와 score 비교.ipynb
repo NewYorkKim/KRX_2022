{
 "cells": [
  {
   "cell_type": "code",
   "execution_count": null,
   "metadata": {},
   "outputs": [],
   "source": [
    "# 30일치 데이터 합치기\n",
    "import pandas as pd\n",
    "\n",
    "target_date = ['2022-06-01', '2022-06-02', '2022-06-03', '2022-06-04', '2022-06-05',\n",
    "               '2022-06-06', '2022-06-07', '2022-06-08', '2022-06-09', '2022-06-10',\n",
    "               '2022-06-11', '2022-06-12', '2022-06-13', '2022-06-14', '2022-06-15',\n",
    "               '2022-06-16', '2022-06-17', '2022-06-18', '2022-06-19', '2022-06-20',\n",
    "               '2022-06-21', '2022-06-22', '2022-06-23', '2022-06-24', '2022-06-25',\n",
    "               '2022-06-26', '2022-06-27', '2022-06-28', '2022-06-29', '2022-06-30']\n",
    "\n",
    "folder_path_3 = \"C:/sh/study/krx데이콘/krx_2022/sh/data/score\"\n",
    "\n",
    "for date in target_date:\n",
    "  df_day = pd.read_csv(folder_path_3 + \"/\" + date + \"_score.csv\")[[\"날짜\",\"score\"]]\n",
    "  df_day = df_day[df_day[\"날짜\"] == date]\n",
    "  df_mean = df_day.groupby(\"날짜\").mean()\n",
    "  df_mean[\"score\"].iloc[0] = (df_mean[\"score\"].iloc[0]/2) + 50\n",
    "  print(df_mean)\n",
    "  if target_date.index(date) == 0:\n",
    "    df_score = df_mean\n",
    "  else:\n",
    "    df_score = pd.concat([df_score,df_mean])"
   ]
  },
  {
   "cell_type": "markdown",
   "metadata": {},
   "source": [
    "## fear/greed 점수 뽑기\n",
    "+ 각 요소의 weight를 인자로 받음\n",
    "+ 만약 nan값이면 그 만큼의 weight를 score에 증가시킴"
   ]
  },
  {
   "cell_type": "code",
   "execution_count": 1,
   "metadata": {},
   "outputs": [],
   "source": [
    "import pandas as pd\n",
    "import matplotlib.pyplot as plt\n",
    "from pykrx import stock\n",
    "import numpy as np\n",
    "import plotly.express as px\n",
    "\n",
    "import chart_studio\n",
    "chart_studio.tools.set_credentials_file(username='username', api_key='api_key')\n",
    "import chart_studio.plotly as py\n",
    "\n",
    "# file_path = final data의 경로\n",
    "# score_weight = 비정형 데이터의 weihgt\n",
    "# exchange_weight = 환율의 weight\n",
    "# transaction_weight = 거래 회전율의 weight\n",
    "# round = 소수 둘째자리까지 반올림하냐마냐\n",
    "# score = score값을 그래프에 추가하냐 마냐\n",
    "# exchange = 환율을 그래프에 추가하냐 마냐\n",
    "# trasaction = 거래회전율을 그래프에 추가하냐 마냐\n",
    "\n",
    "def make_graph(file_path,score_weight,exchange_weight,transaction_weight, round = False, score = False, exchange = False, transaction = False, plotly = True):\n",
    "    # 점수 불러오기\n",
    "    df_score = pd.read_csv(\"final.csv\")[[\"날짜\",\"거래회전율\",\"환율\",\"score\"]]\n",
    "    df_score.set_index(\"날짜\",inplace=True)\n",
    "\n",
    "    # pykrx정보 불러오기\n",
    "    df_stock = stock.get_index_fundamental(\"20220601\", \"20220630\", \"1001\")\n",
    "    df_stock[\"날짜\"] = df_stock.index.astype(\"str\")\n",
    "    df_stock.set_index(\"날짜\",inplace=True)\n",
    "\n",
    "    # weight에 따라 fg_score 계산\n",
    "    fg_score = []\n",
    "    for i in range(30):\n",
    "        sc = df_score[\"score\"].iloc[i]\n",
    "        ex = df_score[\"환율\"].iloc[i]\n",
    "        tr = df_score[\"거래회전율\"].iloc[i]\n",
    "        sw = score_weight\n",
    "        ew = exchange_weight\n",
    "        tw = transaction_weight\n",
    "        if np.isnan(ex):\n",
    "            sw += ew\n",
    "            ex = 0\n",
    "        if np.isnan(tr):\n",
    "            sw += tw\n",
    "            tr = 0\n",
    "        fg = (sc*sw) + (ex*ew) + (tr*tw)\n",
    "        # 반올림\n",
    "        if round:\n",
    "            fg = np.round(fg,2)\n",
    "        fg_score.append(fg)\n",
    "    \n",
    "\n",
    "    # dataframe에 넣기\n",
    "    df_score[\"fg_score\"] = fg_score\n",
    "\n",
    "    # 그래프 그리기\n",
    "    if plotly:\n",
    "        fig = px.line(df_score[\"fg_score\"], x=df_score.index, y=\"fg_score\", title='fear/greed score per day')\n",
    "        py.iplot(fig)\n",
    "    else:\n",
    "        plt.figure(figsize=(12,8))\n",
    "        plt.plot(df_score[\"fg_score\"],label = \"fear/greed score\")\n",
    "        if score:\n",
    "            plt.plot(df_score[\"score\"],label = \"score\")\n",
    "        if exchange:\n",
    "            plt.plot(df_score[\"환율\"],label = \"환율\")\n",
    "        if transaction:\n",
    "            plt.plot(df_score[\"거래회전율\"],label = \"거래회전율\")\n",
    "        plt.legend()\n",
    "        plt.title(\"fear/greed score per day\", color = \"white\",size = 20)\n",
    "        plt.xticks(range(0,30,2), rotation = 30, size = 13)\n",
    "        plt.yticks(size = 13)\n",
    "        plt.tick_params(color = 'white',colors = 'white')\n",
    "\n",
    "    return df_score"
   ]
  },
  {
   "cell_type": "code",
   "execution_count": 2,
   "metadata": {},
   "outputs": [],
   "source": [
    "# 기본 사용 형태\n",
    "df = make_graph(\"final.csv\",\n",
    "                score_weight=0.5,            # score의 가중치\n",
    "                exchange_weight=0.25,        # 환율의 가중치\n",
    "                transaction_weight=0.25,     # 거래회전율의 가중치\n",
    "                round=False,                 # 반올림을 소수 둘째자리까지 할것인지 말것인지\n",
    "                score=False,                 # score의 그래프를 추가할지 말지\n",
    "                exchange=False,              # 환율의 그래프를 추가할지 말지\n",
    "                transaction=False,)          # 거래회전율의 그래프를 추가할지 말지"
   ]
  },
  {
   "cell_type": "code",
   "execution_count": null,
   "metadata": {},
   "outputs": [],
   "source": []
  }
 ],
 "metadata": {
  "kernelspec": {
   "display_name": "Python 3.9.7 ('base')",
   "language": "python",
   "name": "python3"
  },
  "language_info": {
   "codemirror_mode": {
    "name": "ipython",
    "version": 3
   },
   "file_extension": ".py",
   "mimetype": "text/x-python",
   "name": "python",
   "nbconvert_exporter": "python",
   "pygments_lexer": "ipython3",
   "version": "3.9.7"
  },
  "orig_nbformat": 4,
  "vscode": {
   "interpreter": {
    "hash": "2bc543695463befc13840ec3d47f38ad407b1992c7ad047a9a3023a6d142e755"
   }
  }
 },
 "nbformat": 4,
 "nbformat_minor": 2
}
