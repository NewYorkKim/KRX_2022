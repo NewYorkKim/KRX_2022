{
 "cells": [
  {
   "cell_type": "code",
   "execution_count": 52,
   "id": "d1de5279",
   "metadata": {},
   "outputs": [
    {
     "data": {
      "text/html": [
       "<div>\n",
       "<style scoped>\n",
       "    .dataframe tbody tr th:only-of-type {\n",
       "        vertical-align: middle;\n",
       "    }\n",
       "\n",
       "    .dataframe tbody tr th {\n",
       "        vertical-align: top;\n",
       "    }\n",
       "\n",
       "    .dataframe thead th {\n",
       "        text-align: right;\n",
       "    }\n",
       "</style>\n",
       "<table border=\"1\" class=\"dataframe\">\n",
       "  <thead>\n",
       "    <tr style=\"text-align: right;\">\n",
       "      <th></th>\n",
       "      <th>0</th>\n",
       "    </tr>\n",
       "  </thead>\n",
       "  <tbody>\n",
       "    <tr>\n",
       "      <th>2020/06/01</th>\n",
       "      <td>0.437333</td>\n",
       "    </tr>\n",
       "    <tr>\n",
       "      <th>2020/06/02</th>\n",
       "      <td>0.453667</td>\n",
       "    </tr>\n",
       "    <tr>\n",
       "      <th>2020/06/03</th>\n",
       "      <td>0.459833</td>\n",
       "    </tr>\n",
       "    <tr>\n",
       "      <th>2020/06/04</th>\n",
       "      <td>0.471833</td>\n",
       "    </tr>\n",
       "    <tr>\n",
       "      <th>2020/06/05</th>\n",
       "      <td>0.471000</td>\n",
       "    </tr>\n",
       "    <tr>\n",
       "      <th>...</th>\n",
       "      <td>...</td>\n",
       "    </tr>\n",
       "    <tr>\n",
       "      <th>2022/07/12</th>\n",
       "      <td>0.332333</td>\n",
       "    </tr>\n",
       "    <tr>\n",
       "      <th>2022/07/13</th>\n",
       "      <td>0.311833</td>\n",
       "    </tr>\n",
       "    <tr>\n",
       "      <th>2022/07/14</th>\n",
       "      <td>0.323500</td>\n",
       "    </tr>\n",
       "    <tr>\n",
       "      <th>2022/07/15</th>\n",
       "      <td>0.316667</td>\n",
       "    </tr>\n",
       "    <tr>\n",
       "      <th>2022/07/18</th>\n",
       "      <td>0.293833</td>\n",
       "    </tr>\n",
       "  </tbody>\n",
       "</table>\n",
       "<p>530 rows × 1 columns</p>\n",
       "</div>"
      ],
      "text/plain": [
       "                   0\n",
       "2020/06/01  0.437333\n",
       "2020/06/02  0.453667\n",
       "2020/06/03  0.459833\n",
       "2020/06/04  0.471833\n",
       "2020/06/05  0.471000\n",
       "...              ...\n",
       "2022/07/12  0.332333\n",
       "2022/07/13  0.311833\n",
       "2022/07/14  0.323500\n",
       "2022/07/15  0.316667\n",
       "2022/07/18  0.293833\n",
       "\n",
       "[530 rows x 1 columns]"
      ]
     },
     "execution_count": 52,
     "metadata": {},
     "output_type": "execute_result"
    }
   ],
   "source": [
    "import pandas as pd\n",
    "\n",
    "df = pd.read_csv('exchange.csv', thousands = ',').transpose().drop(labels = ['통계표', '계정항목', '단위', '변환']).astype(float)\n",
    "\n",
    "df[0] = (df[0] - 900) / (1500 - 900)\n",
    "df[0] = 1 - df[0]\n",
    "df"
   ]
  },
  {
   "cell_type": "code",
   "execution_count": 53,
   "id": "55817d6c",
   "metadata": {},
   "outputs": [
    {
     "data": {
      "text/plain": [
       "<AxesSubplot:>"
      ]
     },
     "execution_count": 53,
     "metadata": {},
     "output_type": "execute_result"
    },
    {
     "data": {
      "image/png": "[encoded data removed]",
      "text/plain": [
       "<Figure size 432x288 with 1 Axes>"
      ]
     },
     "metadata": {
      "needs_background": "light"
     },
     "output_type": "display_data"
    }
   ],
   "source": [
    "df.plot()"
   ]
  },
  {
   "cell_type": "code",
   "execution_count": null,
   "id": "2137572b",
   "metadata": {},
   "outputs": [],
   "source": []
  }
 ],
 "metadata": {
  "kernelspec": {
   "display_name": "Python 3 (ipykernel)",
   "language": "python",
   "name": "python3"
  },
  "language_info": {
   "codemirror_mode": {
    "name": "ipython",
    "version": 3
   },
   "file_extension": ".py",
   "mimetype": "text/x-python",
   "name": "python",
   "nbconvert_exporter": "python",
   "pygments_lexer": "ipython3",
   "version": "3.9.13"
  }
 },
 "nbformat": 4,
 "nbformat_minor": 5
}
