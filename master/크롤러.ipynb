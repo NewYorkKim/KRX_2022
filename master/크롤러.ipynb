{
 "cells": [
  {
   "cell_type": "markdown",
   "id": "a9ba7218",
   "metadata": {},
   "source": [
    "### 유튜브 api"
   ]
  },
  {
   "cell_type": "code",
   "execution_count": 1,
   "id": "dfef77cc",
   "metadata": {},
   "outputs": [],
   "source": [
    "# !pip install scrapetube\n",
    "# !pip install google-api-python-client"
   ]
  },
  {
   "cell_type": "code",
   "execution_count": 3,
   "id": "a85976d9",
   "metadata": {},
   "outputs": [],
   "source": [
    "import pandas as pd\n",
    "import datetime\n",
    "import scrapetube\n",
    "from googleapiclient.discovery import build"
   ]
  },
  {
   "cell_type": "code",
   "execution_count": null,
   "id": "43f39b28",
   "metadata": {},
   "outputs": [],
   "source": [
    "class YoutubeAPI:\n",
    "    def __init__ (self):\n",
    "        self.api_key = 'api_key'\n",
    "        self.youtube = build('youtube', 'v3', developerKey=api_key)\n",
    "        channel_id = 'UChlv4GSd7OQl3js-jkLOnFA' # 삼프로TV\n",
    "        \n",
    "    def get_video_ids(self):\n",
    "        pass\n",
    "    \n",
    "    def get_comments(self):\n",
    "        pass\n",
    "    \n",
    "    def update_db(self):\n",
    "        pass\n",
    "    \n",
    "    def execute_daily(self):\n",
    "        pass"
   ]
  }
 ],
 "metadata": {
  "kernelspec": {
   "display_name": "krx",
   "language": "python",
   "name": "krx"
  },
  "language_info": {
   "codemirror_mode": {
    "name": "ipython",
    "version": 3
   },
   "file_extension": ".py",
   "mimetype": "text/x-python",
   "name": "python",
   "nbconvert_exporter": "python",
   "pygments_lexer": "ipython3",
   "version": "3.10.4"
  }
 },
 "nbformat": 4,
 "nbformat_minor": 5
}
