{
 "cells": [
  {
   "cell_type": "markdown",
   "id": "a9ba7218",
   "metadata": {},
   "source": [
    "### 유튜브 api"
   ]
  },
  {
   "cell_type": "code",
   "execution_count": 1,
   "id": "dfef77cc",
   "metadata": {},
   "outputs": [],
   "source": [
    "# !pip install scrapetube\n",
    "# !pip install google-api-python-client"
   ]
  },
  {
   "cell_type": "code",
   "execution_count": 3,
   "id": "a85976d9",
   "metadata": {},
   "outputs": [],
   "source": [
    "import pandas as pd\n",
    "import datetime\n",
    "import scrapetube\n",
    "from googleapiclient.discovery import build"
   ]
  },
  {
   "cell_type": "code",
   "execution_count": null,
   "id": "43f39b28",
   "metadata": {},
   "outputs": [],
   "source": [
    "class YoutubeAPI:\n",
    "    def __init__ (self):\n",
    "        self.api_key = 'api_key'\n",
    "        self.youtube = build('youtube', 'v3', developerKey=api_key)\n",
    "        channel_id = 'UChlv4GSd7OQl3js-jkLOnFA' # 삼프로TV\n",
    "        \n",
    "    def get_video_ids(self):\n",
    "        videos = scrapetube.get_channel(self.channel_id)\n",
    "        \n",
    "        video_ids = []\n",
    "        for video in videos:\n",
    "            video_ids.append(video['videoId'])\n",
    "        \n",
    "        self.get_video_infos(video_ids)\n",
    "    \n",
    "    def get_video_infos(self, video_ids):\n",
    "        video_infos = []\n",
    "        \n",
    "        for i in range(50):\n",
    "            start = i * 50\n",
    "            end = (i + 1) * 50\n",
    "            \n",
    "            video_request = self.youtube.videos().list(\n",
    "                part='snippet',\n",
    "                id=','.join(video_ids[start:end]))\n",
    "            \n",
    "            video_response = video_request.execute()\n",
    "            \n",
    "            for item in video_response['items']:\n",
    "                title = item['snippet']['title']\n",
    "                if ('글로벌 이슈체크' in title) or ('글로벌 마켓브리핑' in title) or ('직장인 vlog' in title):\n",
    "                    continue\n",
    "                video_infos.append([item['snippet']['title'], item['snippet']['publishAt'], item['id']])\n",
    "    \n",
    "            df_ids = pd.DataFrame(video_infos, columns=['title', 'video_date', 'id'])\n",
    "            \n",
    "            self.get_comments(df_ids)\n",
    "            \n",
    "    def get_comments(self, df_ids):\n",
    "        comments = []\n",
    "        \n",
    "        for video_id in df_ids['id']:\n",
    "            api_obj = build('youtube', 'v3', developerKey=self.api_key)\n",
    "            response = api_obj.commentThreads().list(part='snippet', videoId=video_id, maxResults=100).execute()\n",
    "            \n",
    "            while response:\n",
    "                for item in response['items']:\n",
    "                    comment = item['snippet']['topLevelComment']['snippet']\n",
    "                    comments.append([video_id, comment['textDisplay'], comment['authorDisplayName'], comment['publishedAt'], comment['likeCount']])\n",
    "            \n",
    "            if 'nextPageToken' in response:\n",
    "                response = api_obj.commentThreads().list(part='snippet', videoId=video_id, pageToken=response['nextPageToken'], maxResults=100).execute()\n",
    "            else:\n",
    "                break\n",
    "                \n",
    "        df_comments = pd.DataFrame(comments, columns=['id', 'comment', 'author', 'comment_date', 'num_likes'])\n",
    "        \n",
    "        df = pd.merge(df_comments, df_ids, on='id', how='outer')\n",
    "        \n",
    "        self.update_db(df)\n",
    "        \n",
    "    def update_db(self, df):\n",
    "        pass\n",
    "    \n",
    "    def execute_daily(self):\n",
    "        pass"
   ]
  }
 ],
 "metadata": {
  "kernelspec": {
   "display_name": "krx",
   "language": "python",
   "name": "krx"
  },
  "language_info": {
   "codemirror_mode": {
    "name": "ipython",
    "version": 3
   },
   "file_extension": ".py",
   "mimetype": "text/x-python",
   "name": "python",
   "nbconvert_exporter": "python",
   "pygments_lexer": "ipython3",
   "version": "3.10.4"
  }
 },
 "nbformat": 4,
 "nbformat_minor": 5
}
