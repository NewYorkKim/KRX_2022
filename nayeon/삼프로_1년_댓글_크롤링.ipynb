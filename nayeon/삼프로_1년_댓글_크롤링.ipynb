{
 "cells": [
  {
   "cell_type": "code",
   "execution_count": 2,
   "id": "e0e6f8cc",
   "metadata": {},
   "outputs": [],
   "source": [
    "import pandas as pd\n",
    "from googleapiclient.discovery import build\n",
    "import scrapetube"
   ]
  },
  {
   "cell_type": "code",
   "execution_count": 6,
   "id": "02bb81d7",
   "metadata": {},
   "outputs": [],
   "source": [
    "api_key = 'api_key'\n",
    "youtube = build('youtube', 'v3', developerKey=api_key)\n",
    "\n",
    "search_response = youtube.search().list(\n",
    "    q = '삼프로tv',\n",
    "    order = 'relevance',\n",
    "    part = 'snippet',\n",
    "    maxResults = 10\n",
    "    ).execute()\n",
    "\n",
    "channel_id = search_response['items'][0]['snippet']['channelId']"
   ]
  },
  {
   "cell_type": "code",
   "execution_count": 7,
   "id": "f6d4876c",
   "metadata": {
    "scrolled": true
   },
   "outputs": [
    {
     "data": {
      "text/plain": [
       "'UChlv4GSd7OQl3js-jkLOnFA'"
      ]
     },
     "execution_count": 7,
     "metadata": {},
     "output_type": "execute_result"
    }
   ],
   "source": [
    "channel_id"
   ]
  },
  {
   "cell_type": "code",
   "execution_count": 13,
   "id": "3688b764",
   "metadata": {},
   "outputs": [],
   "source": [
    "videos = scrapetube.get_channel(channel_id)\n",
    "\n",
    "video_id = []\n",
    "\n",
    "for video in videos:\n",
    "    video_id.append(video['videoId'])"
   ]
  },
  {
   "cell_type": "code",
   "execution_count": 14,
   "id": "b4791c14",
   "metadata": {},
   "outputs": [
    {
     "data": {
      "text/plain": [
       "8393"
      ]
     },
     "execution_count": 14,
     "metadata": {},
     "output_type": "execute_result"
    }
   ],
   "source": [
    "len(video_id)"
   ]
  },
  {
   "cell_type": "code",
   "execution_count": 21,
   "id": "978f278f",
   "metadata": {},
   "outputs": [
    {
     "data": {
      "text/html": [
       "<div>\n",
       "<style scoped>\n",
       "    .dataframe tbody tr th:only-of-type {\n",
       "        vertical-align: middle;\n",
       "    }\n",
       "\n",
       "    .dataframe tbody tr th {\n",
       "        vertical-align: top;\n",
       "    }\n",
       "\n",
       "    .dataframe thead th {\n",
       "        text-align: right;\n",
       "    }\n",
       "</style>\n",
       "<table border=\"1\" class=\"dataframe\">\n",
       "  <thead>\n",
       "    <tr style=\"text-align: right;\">\n",
       "      <th></th>\n",
       "      <th>title</th>\n",
       "      <th>date</th>\n",
       "      <th>id</th>\n",
       "    </tr>\n",
       "  </thead>\n",
       "  <tbody>\n",
       "    <tr>\n",
       "      <th>0</th>\n",
       "      <td>★시청자 징징이 사연36★ 큰손 징징이 [정프로의 방과후 징징쇼_셀리버리]</td>\n",
       "      <td>2022-07-06T01:35:01Z</td>\n",
       "      <td>XC2Zz3Jy1WM</td>\n",
       "    </tr>\n",
       "    <tr>\n",
       "      <th>1</th>\n",
       "      <td>[증시 염탐정] 양 시장 하락 출발.. 기관 매도에 더 흘러내리나? f.이베스트투자...</td>\n",
       "      <td>2022-07-06T01:33:56Z</td>\n",
       "      <td>O_lknvGY8Jk</td>\n",
       "    </tr>\n",
       "    <tr>\n",
       "      <th>2</th>\n",
       "      <td>유가, 금리하락 효과? 미국증시 기술주 급반등 마감 // '여의도 야전사령관'이 예...</td>\n",
       "      <td>2022-07-06T01:24:53Z</td>\n",
       "      <td>3-Gp9-H2yu8</td>\n",
       "    </tr>\n",
       "    <tr>\n",
       "      <th>3</th>\n",
       "      <td>[마켓인사이드] 2분기 실적 시즌에 주가는 어느 쪽으로 움직일까? f.교보증권 박병...</td>\n",
       "      <td>2022-07-06T01:02:25Z</td>\n",
       "      <td>Yvr3rVln9RI</td>\n",
       "    </tr>\n",
       "    <tr>\n",
       "      <th>4</th>\n",
       "      <td>[글로벌 개장시황] 생방송 중 환율 급등! 최파고 생각은? f. 미국주식에 미치다 ...</td>\n",
       "      <td>2022-07-05T14:14:51Z</td>\n",
       "      <td>h5N1H7lPhfM</td>\n",
       "    </tr>\n",
       "  </tbody>\n",
       "</table>\n",
       "</div>"
      ],
      "text/plain": [
       "                                               title                  date  \\\n",
       "0          ★시청자 징징이 사연36★ 큰손 징징이 [정프로의 방과후 징징쇼_셀리버리]  2022-07-06T01:35:01Z   \n",
       "1  [증시 염탐정] 양 시장 하락 출발.. 기관 매도에 더 흘러내리나? f.이베스트투자...  2022-07-06T01:33:56Z   \n",
       "2  유가, 금리하락 효과? 미국증시 기술주 급반등 마감 // '여의도 야전사령관'이 예...  2022-07-06T01:24:53Z   \n",
       "3  [마켓인사이드] 2분기 실적 시즌에 주가는 어느 쪽으로 움직일까? f.교보증권 박병...  2022-07-06T01:02:25Z   \n",
       "4  [글로벌 개장시황] 생방송 중 환율 급등! 최파고 생각은? f. 미국주식에 미치다 ...  2022-07-05T14:14:51Z   \n",
       "\n",
       "            id  \n",
       "0  XC2Zz3Jy1WM  \n",
       "1  O_lknvGY8Jk  \n",
       "2  3-Gp9-H2yu8  \n",
       "3  Yvr3rVln9RI  \n",
       "4  h5N1H7lPhfM  "
      ]
     },
     "execution_count": 21,
     "metadata": {},
     "output_type": "execute_result"
    }
   ],
   "source": [
    "video_infos = []\n",
    "\n",
    "for i in range(100):\n",
    "    start = i * 50 \n",
    "    end = (i + 1) * 50\n",
    "    video_request = youtube.videos().list(\n",
    "        part=\"snippet\",\n",
    "        id=','.join(video_id[start:end]))\n",
    "\n",
    "    video_response = video_request.execute()\n",
    "\n",
    "    for item in video_response['items']:\n",
    "        video_infos.append([item['snippet']['title'], item['snippet']['publishedAt'], item['id']])\n",
    "        \n",
    "df = pd.DataFrame(video_infos, columns=['title', 'date', 'id'])\n",
    "df.head()"
   ]
  },
  {
   "cell_type": "code",
   "execution_count": 22,
   "id": "c47f7702",
   "metadata": {},
   "outputs": [
    {
     "data": {
      "text/plain": [
       "4999"
      ]
     },
     "execution_count": 22,
     "metadata": {},
     "output_type": "execute_result"
    }
   ],
   "source": [
    "len(df)"
   ]
  },
  {
   "cell_type": "code",
   "execution_count": 30,
   "id": "70c7a753",
   "metadata": {},
   "outputs": [],
   "source": [
    "df['date'] = pd.to_datetime(df['date'], format='%Y-%m-%d')"
   ]
  },
  {
   "cell_type": "code",
   "execution_count": 31,
   "id": "8dc665df",
   "metadata": {},
   "outputs": [
    {
     "data": {
      "text/html": [
       "<div>\n",
       "<style scoped>\n",
       "    .dataframe tbody tr th:only-of-type {\n",
       "        vertical-align: middle;\n",
       "    }\n",
       "\n",
       "    .dataframe tbody tr th {\n",
       "        vertical-align: top;\n",
       "    }\n",
       "\n",
       "    .dataframe thead th {\n",
       "        text-align: right;\n",
       "    }\n",
       "</style>\n",
       "<table border=\"1\" class=\"dataframe\">\n",
       "  <thead>\n",
       "    <tr style=\"text-align: right;\">\n",
       "      <th></th>\n",
       "      <th>title</th>\n",
       "      <th>date</th>\n",
       "      <th>id</th>\n",
       "    </tr>\n",
       "  </thead>\n",
       "  <tbody>\n",
       "    <tr>\n",
       "      <th>0</th>\n",
       "      <td>★시청자 징징이 사연36★ 큰손 징징이 [정프로의 방과후 징징쇼_셀리버리]</td>\n",
       "      <td>2022-07-06 01:35:01+00:00</td>\n",
       "      <td>XC2Zz3Jy1WM</td>\n",
       "    </tr>\n",
       "    <tr>\n",
       "      <th>1</th>\n",
       "      <td>[증시 염탐정] 양 시장 하락 출발.. 기관 매도에 더 흘러내리나? f.이베스트투자...</td>\n",
       "      <td>2022-07-06 01:33:56+00:00</td>\n",
       "      <td>O_lknvGY8Jk</td>\n",
       "    </tr>\n",
       "    <tr>\n",
       "      <th>2</th>\n",
       "      <td>유가, 금리하락 효과? 미국증시 기술주 급반등 마감 // '여의도 야전사령관'이 예...</td>\n",
       "      <td>2022-07-06 01:24:53+00:00</td>\n",
       "      <td>3-Gp9-H2yu8</td>\n",
       "    </tr>\n",
       "    <tr>\n",
       "      <th>3</th>\n",
       "      <td>[마켓인사이드] 2분기 실적 시즌에 주가는 어느 쪽으로 움직일까? f.교보증권 박병...</td>\n",
       "      <td>2022-07-06 01:02:25+00:00</td>\n",
       "      <td>Yvr3rVln9RI</td>\n",
       "    </tr>\n",
       "    <tr>\n",
       "      <th>4</th>\n",
       "      <td>[글로벌 개장시황] 생방송 중 환율 급등! 최파고 생각은? f. 미국주식에 미치다 ...</td>\n",
       "      <td>2022-07-05 14:14:51+00:00</td>\n",
       "      <td>h5N1H7lPhfM</td>\n",
       "    </tr>\n",
       "    <tr>\n",
       "      <th>...</th>\n",
       "      <td>...</td>\n",
       "      <td>...</td>\n",
       "      <td>...</td>\n",
       "    </tr>\n",
       "    <tr>\n",
       "      <th>4994</th>\n",
       "      <td>혁신 vs 규제 균형 속에 고성장하는 핀테크 대예측!_글로벌 라이브_박광남, 강혜승...</td>\n",
       "      <td>2021-01-21 14:45:46+00:00</td>\n",
       "      <td>VfKfp22TD9k</td>\n",
       "    </tr>\n",
       "    <tr>\n",
       "      <th>4995</th>\n",
       "      <td>다가오는 1월 FOMC.. 우리가 주목해야 할 부분은? f.KB증권 김상훈 이사</td>\n",
       "      <td>2021-01-21 11:16:54+00:00</td>\n",
       "      <td>MOU2Om3R3nw</td>\n",
       "    </tr>\n",
       "    <tr>\n",
       "      <th>4996</th>\n",
       "      <td>삼성전자의 인텔 파운드리 수주.. 주가의 상승 탄력받을까? f.한국투자증권 박제영 차장</td>\n",
       "      <td>2021-01-21 10:54:03+00:00</td>\n",
       "      <td>a6VtSP8O5EQ</td>\n",
       "    </tr>\n",
       "    <tr>\n",
       "      <th>4997</th>\n",
       "      <td>코로나19 이후의 세상.. 경기 회복 뒤의 인플레이션 대응책은?_퇴근길 page2_...</td>\n",
       "      <td>2021-01-21 10:35:25+00:00</td>\n",
       "      <td>lA7kPf0PjW4</td>\n",
       "    </tr>\n",
       "    <tr>\n",
       "      <th>4998</th>\n",
       "      <td>옐런 재무부 장관 내정자가 한국 증시의 장기 랠리를 만들 수 있다? f.이베스트투자...</td>\n",
       "      <td>2021-01-21 01:34:17+00:00</td>\n",
       "      <td>rW1e2_dcyWM</td>\n",
       "    </tr>\n",
       "  </tbody>\n",
       "</table>\n",
       "<p>4999 rows × 3 columns</p>\n",
       "</div>"
      ],
      "text/plain": [
       "                                                  title  \\\n",
       "0             ★시청자 징징이 사연36★ 큰손 징징이 [정프로의 방과후 징징쇼_셀리버리]   \n",
       "1     [증시 염탐정] 양 시장 하락 출발.. 기관 매도에 더 흘러내리나? f.이베스트투자...   \n",
       "2     유가, 금리하락 효과? 미국증시 기술주 급반등 마감 // '여의도 야전사령관'이 예...   \n",
       "3     [마켓인사이드] 2분기 실적 시즌에 주가는 어느 쪽으로 움직일까? f.교보증권 박병...   \n",
       "4     [글로벌 개장시황] 생방송 중 환율 급등! 최파고 생각은? f. 미국주식에 미치다 ...   \n",
       "...                                                 ...   \n",
       "4994  혁신 vs 규제 균형 속에 고성장하는 핀테크 대예측!_글로벌 라이브_박광남, 강혜승...   \n",
       "4995       다가오는 1월 FOMC.. 우리가 주목해야 할 부분은? f.KB증권 김상훈 이사   \n",
       "4996   삼성전자의 인텔 파운드리 수주.. 주가의 상승 탄력받을까? f.한국투자증권 박제영 차장   \n",
       "4997  코로나19 이후의 세상.. 경기 회복 뒤의 인플레이션 대응책은?_퇴근길 page2_...   \n",
       "4998  옐런 재무부 장관 내정자가 한국 증시의 장기 랠리를 만들 수 있다? f.이베스트투자...   \n",
       "\n",
       "                          date           id  \n",
       "0    2022-07-06 01:35:01+00:00  XC2Zz3Jy1WM  \n",
       "1    2022-07-06 01:33:56+00:00  O_lknvGY8Jk  \n",
       "2    2022-07-06 01:24:53+00:00  3-Gp9-H2yu8  \n",
       "3    2022-07-06 01:02:25+00:00  Yvr3rVln9RI  \n",
       "4    2022-07-05 14:14:51+00:00  h5N1H7lPhfM  \n",
       "...                        ...          ...  \n",
       "4994 2021-01-21 14:45:46+00:00  VfKfp22TD9k  \n",
       "4995 2021-01-21 11:16:54+00:00  MOU2Om3R3nw  \n",
       "4996 2021-01-21 10:54:03+00:00  a6VtSP8O5EQ  \n",
       "4997 2021-01-21 10:35:25+00:00  lA7kPf0PjW4  \n",
       "4998 2021-01-21 01:34:17+00:00  rW1e2_dcyWM  \n",
       "\n",
       "[4999 rows x 3 columns]"
      ]
     },
     "execution_count": 31,
     "metadata": {},
     "output_type": "execute_result"
    }
   ],
   "source": [
    "df"
   ]
  },
  {
   "cell_type": "code",
   "execution_count": 32,
   "id": "027eae83",
   "metadata": {},
   "outputs": [],
   "source": [
    "df = df.set_index('date')"
   ]
  },
  {
   "cell_type": "code",
   "execution_count": 38,
   "id": "822138f0",
   "metadata": {},
   "outputs": [],
   "source": [
    "df_21 = df[(pd.DatetimeIndex(df.index).year == 2021) & (pd.DatetimeIndex(df.index).month >= 6)]\n",
    "df_22 = df[(pd.DatetimeIndex(df.index).year == 2022) & (pd.DatetimeIndex(df.index).month <= 6)]"
   ]
  },
  {
   "cell_type": "code",
   "execution_count": 39,
   "id": "b8fd2b4f",
   "metadata": {},
   "outputs": [
    {
     "data": {
      "text/html": [
       "<div>\n",
       "<style scoped>\n",
       "    .dataframe tbody tr th:only-of-type {\n",
       "        vertical-align: middle;\n",
       "    }\n",
       "\n",
       "    .dataframe tbody tr th {\n",
       "        vertical-align: top;\n",
       "    }\n",
       "\n",
       "    .dataframe thead th {\n",
       "        text-align: right;\n",
       "    }\n",
       "</style>\n",
       "<table border=\"1\" class=\"dataframe\">\n",
       "  <thead>\n",
       "    <tr style=\"text-align: right;\">\n",
       "      <th></th>\n",
       "      <th>title</th>\n",
       "      <th>id</th>\n",
       "    </tr>\n",
       "    <tr>\n",
       "      <th>date</th>\n",
       "      <th></th>\n",
       "      <th></th>\n",
       "    </tr>\n",
       "  </thead>\n",
       "  <tbody>\n",
       "    <tr>\n",
       "      <th>2022-06-30 14:12:05+00:00</th>\n",
       "      <td>중국과 LCD 치킨게임 \"버려야 산다\"/제약·바이오 전환점 다가왔나?/누리호 보유국...</td>\n",
       "      <td>iHXeZ5v15dk</td>\n",
       "    </tr>\n",
       "    <tr>\n",
       "      <th>2022-06-30 14:04:45+00:00</th>\n",
       "      <td>[글로벌 개장시황] 유가 하락 전망하는 3가지 이유  f. 미국주식에미치다 장우석 부사장</td>\n",
       "      <td>7SsI_15R4z4</td>\n",
       "    </tr>\n",
       "    <tr>\n",
       "      <th>2022-06-30 14:01:27+00:00</th>\n",
       "      <td>[글로벌 이슈체크] 상승하는 중국, 투자 전 꼭 확인해야할 것은? f. 하나금융투자...</td>\n",
       "      <td>1QX17R7x28s</td>\n",
       "    </tr>\n",
       "    <tr>\n",
       "      <th>2022-06-30 14:01:15+00:00</th>\n",
       "      <td>[글로벌 마켓브리핑] 주도주 바뀌는 자산의 겨울 오고 있다! f. 미래에셋증권 이찬...</td>\n",
       "      <td>JfssxpuF8t0</td>\n",
       "    </tr>\n",
       "    <tr>\n",
       "      <th>2022-06-30 12:05:00+00:00</th>\n",
       "      <td>[심층인터뷰] 하락장에서도 버티는 제약·바이오의 비밀 f. 현대차증권 엄민용 책임연구원</td>\n",
       "      <td>lOkhqyvmkC4</td>\n",
       "    </tr>\n",
       "    <tr>\n",
       "      <th>...</th>\n",
       "      <td>...</td>\n",
       "      <td>...</td>\n",
       "    </tr>\n",
       "    <tr>\n",
       "      <th>2021-06-01 01:41:53+00:00</th>\n",
       "      <td>[증시 염탐정] 기관·외국인 매수 출발.. 종가에는 어떨까? f.이베스트투자증권 염...</td>\n",
       "      <td>K16i24lDTGw</td>\n",
       "    </tr>\n",
       "    <tr>\n",
       "      <th>2021-06-01 01:26:30+00:00</th>\n",
       "      <td>[심층 인터뷰] 미국에서의 현지 생산.. 점유율과 실적, 동반 상승한다? f.이베스...</td>\n",
       "      <td>UOeGThyaVNA</td>\n",
       "    </tr>\n",
       "    <tr>\n",
       "      <th>2021-06-01 01:11:52+00:00</th>\n",
       "      <td>[제길선생의 미국 돋보기] 테이퍼링 분수령 될 6월.. 시장은 박스권을 유지할까? ...</td>\n",
       "      <td>524lLbP7z1k</td>\n",
       "    </tr>\n",
       "    <tr>\n",
       "      <th>2021-06-01 01:03:39+00:00</th>\n",
       "      <td>[뉴스3] OECD, 2021년 한국 성장률 3.8% 전망</td>\n",
       "      <td>MujtE-LhgFY</td>\n",
       "    </tr>\n",
       "    <tr>\n",
       "      <th>2021-06-01 00:44:02+00:00</th>\n",
       "      <td>국내 전기차 업계.. 다시 치고 올라가나?_오늘아침 page2_유지웅, 박병창, 염승환</td>\n",
       "      <td>Qn2zNAAn7qw</td>\n",
       "    </tr>\n",
       "  </tbody>\n",
       "</table>\n",
       "<p>3771 rows × 2 columns</p>\n",
       "</div>"
      ],
      "text/plain": [
       "                                                                       title  \\\n",
       "date                                                                           \n",
       "2022-06-30 14:12:05+00:00  중국과 LCD 치킨게임 \"버려야 산다\"/제약·바이오 전환점 다가왔나?/누리호 보유국...   \n",
       "2022-06-30 14:04:45+00:00  [글로벌 개장시황] 유가 하락 전망하는 3가지 이유  f. 미국주식에미치다 장우석 부사장   \n",
       "2022-06-30 14:01:27+00:00  [글로벌 이슈체크] 상승하는 중국, 투자 전 꼭 확인해야할 것은? f. 하나금융투자...   \n",
       "2022-06-30 14:01:15+00:00  [글로벌 마켓브리핑] 주도주 바뀌는 자산의 겨울 오고 있다! f. 미래에셋증권 이찬...   \n",
       "2022-06-30 12:05:00+00:00   [심층인터뷰] 하락장에서도 버티는 제약·바이오의 비밀 f. 현대차증권 엄민용 책임연구원   \n",
       "...                                                                      ...   \n",
       "2021-06-01 01:41:53+00:00  [증시 염탐정] 기관·외국인 매수 출발.. 종가에는 어떨까? f.이베스트투자증권 염...   \n",
       "2021-06-01 01:26:30+00:00  [심층 인터뷰] 미국에서의 현지 생산.. 점유율과 실적, 동반 상승한다? f.이베스...   \n",
       "2021-06-01 01:11:52+00:00  [제길선생의 미국 돋보기] 테이퍼링 분수령 될 6월.. 시장은 박스권을 유지할까? ...   \n",
       "2021-06-01 01:03:39+00:00                   [뉴스3] OECD, 2021년 한국 성장률 3.8% 전망   \n",
       "2021-06-01 00:44:02+00:00   국내 전기차 업계.. 다시 치고 올라가나?_오늘아침 page2_유지웅, 박병창, 염승환   \n",
       "\n",
       "                                    id  \n",
       "date                                    \n",
       "2022-06-30 14:12:05+00:00  iHXeZ5v15dk  \n",
       "2022-06-30 14:04:45+00:00  7SsI_15R4z4  \n",
       "2022-06-30 14:01:27+00:00  1QX17R7x28s  \n",
       "2022-06-30 14:01:15+00:00  JfssxpuF8t0  \n",
       "2022-06-30 12:05:00+00:00  lOkhqyvmkC4  \n",
       "...                                ...  \n",
       "2021-06-01 01:41:53+00:00  K16i24lDTGw  \n",
       "2021-06-01 01:26:30+00:00  UOeGThyaVNA  \n",
       "2021-06-01 01:11:52+00:00  524lLbP7z1k  \n",
       "2021-06-01 01:03:39+00:00  MujtE-LhgFY  \n",
       "2021-06-01 00:44:02+00:00  Qn2zNAAn7qw  \n",
       "\n",
       "[3771 rows x 2 columns]"
      ]
     },
     "execution_count": 39,
     "metadata": {},
     "output_type": "execute_result"
    }
   ],
   "source": [
    "df_1y = pd.concat([df_22, df_21])\n",
    "df_1y"
   ]
  },
  {
   "cell_type": "code",
   "execution_count": 43,
   "id": "a6016a88",
   "metadata": {},
   "outputs": [],
   "source": [
    "# comments = []\n",
    "\n",
    "# for video_id in df_1y['id']:\n",
    "#     api_obj = build('youtube', 'v3', developerKey=api_key)\n",
    "#     response = api_obj.commentThreads().list(part='snippet,replies', videoId=video_id, maxResults=100).execute()\n",
    " \n",
    "#     while response:\n",
    "#         for item in response['items']:\n",
    "#             comment = item['snippet']['topLevelComment']['snippet']\n",
    "#             comments.append([comment['textDisplay'], comment['authorDisplayName'], comment['publishedAt'], comment['likeCount']])\n",
    "\n",
    "# #             if item['snippet']['totalReplyCount'] > 0:\n",
    "# #                 for reply_item in item['replies']['comments']:\n",
    "# #                     reply = reply_item['snippet']\n",
    "# #                     comments.append([reply['textDisplay'], reply['authorDisplayName'], reply['publishedAt'], reply['likeCount']])\n",
    " \n",
    "#         if 'nextPageToken' in response:\n",
    "#             response = api_obj.commentThreads().list(part='snippet,replies', videoId=video_id, pageToken=response['nextPageToken'], maxResults=100).execute()\n",
    "#         else:\n",
    "#             break\n",
    "\n",
    "# df = pd.DataFrame(comments)\n",
    "# df.to_excel('sampro_06.xlsx', header=['comment', 'author', 'date', 'num_likes'], index=None)"
   ]
  },
  {
   "cell_type": "code",
   "execution_count": 44,
   "id": "cb5d746f",
   "metadata": {},
   "outputs": [
    {
     "data": {
      "text/plain": [
       "182706"
      ]
     },
     "execution_count": 44,
     "metadata": {},
     "output_type": "execute_result"
    }
   ],
   "source": [
    "comments_21 = []\n",
    "\n",
    "for video_id in df_21['id']:\n",
    "    api_obj = build('youtube', 'v3', developerKey=api_key)\n",
    "    response = api_obj.commentThreads().list(part='snippet,replies', videoId=video_id, maxResults=100).execute()\n",
    " \n",
    "    while response:\n",
    "        for item in response['items']:\n",
    "            comment = item['snippet']['topLevelComment']['snippet']\n",
    "            comments_21.append([comment['textDisplay'], comment['authorDisplayName'], comment['publishedAt'], comment['likeCount']])\n",
    "\n",
    "#             if item['snippet']['totalReplyCount'] > 0:\n",
    "#                 for reply_item in item['replies']['comments']:\n",
    "#                     reply = reply_item['snippet']\n",
    "#                     comments.append([reply['textDisplay'], reply['authorDisplayName'], reply['publishedAt'], reply['likeCount']])\n",
    " \n",
    "        if 'nextPageToken' in response:\n",
    "            response = api_obj.commentThreads().list(part='snippet,replies', videoId=video_id, pageToken=response['nextPageToken'], maxResults=100).execute()\n",
    "        else:\n",
    "            break\n",
    "\n",
    "df = pd.DataFrame(comments_21)\n",
    "len(df)"
   ]
  },
  {
   "cell_type": "code",
   "execution_count": 47,
   "id": "77794726",
   "metadata": {},
   "outputs": [],
   "source": [
    "df.to_csv('sampro_21.csv', header=['comment', 'author', 'date', 'num_likes'], index=None)"
   ]
  },
  {
   "cell_type": "code",
   "execution_count": 46,
   "id": "07fe8da4",
   "metadata": {},
   "outputs": [],
   "source": [
    "comments_22 = []\n",
    "\n",
    "for video_id in df_22['id']:\n",
    "    api_obj = build('youtube', 'v3', developerKey=api_key)\n",
    "    response = api_obj.commentThreads().list(part='snippet,replies', videoId=video_id, maxResults=100).execute()\n",
    " \n",
    "    while response:\n",
    "        for item in response['items']:\n",
    "            comment = item['snippet']['topLevelComment']['snippet']\n",
    "            comments_22.append([comment['textDisplay'], comment['authorDisplayName'], comment['publishedAt'], comment['likeCount']])\n",
    "\n",
    "#             if item['snippet']['totalReplyCount'] > 0:\n",
    "#                 for reply_item in item['replies']['comments']:\n",
    "#                     reply = reply_item['snippet']\n",
    "#                     comments.append([reply['textDisplay'], reply['authorDisplayName'], reply['publishedAt'], reply['likeCount']])\n",
    " \n",
    "        if 'nextPageToken' in response:\n",
    "            response = api_obj.commentThreads().list(part='snippet,replies', videoId=video_id, pageToken=response['nextPageToken'], maxResults=100).execute()\n",
    "        else:\n",
    "            break\n",
    "\n",
    "df1 = pd.DataFrame(comments_22)\n",
    "len(df1)"
   ]
  },
  {
   "cell_type": "code",
   "execution_count": null,
   "id": "5961c2b4",
   "metadata": {},
   "outputs": [],
   "source": []
  }
 ],
 "metadata": {
  "kernelspec": {
   "display_name": "krx",
   "language": "python",
   "name": "krx"
  },
  "language_info": {
   "codemirror_mode": {
    "name": "ipython",
    "version": 3
   },
   "file_extension": ".py",
   "mimetype": "text/x-python",
   "name": "python",
   "nbconvert_exporter": "python",
   "pygments_lexer": "ipython3",
   "version": "3.10.4"
  }
 },
 "nbformat": 4,
 "nbformat_minor": 5
}
