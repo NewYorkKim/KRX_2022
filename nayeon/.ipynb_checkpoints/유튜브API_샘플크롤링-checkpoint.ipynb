{
 "cells": [
  {
   "cell_type": "code",
   "execution_count": 4,
   "id": "5fb211d4",
   "metadata": {},
   "outputs": [],
   "source": [
    "import pandas as pd\n",
    "from googleapiclient.discovery import build"
   ]
  },
  {
   "cell_type": "code",
   "execution_count": 2,
   "id": "752e12fe",
   "metadata": {},
   "outputs": [],
   "source": [
    "api_key = 'api_key'\n",
    "video_id = 'video id'\n",
    " \n",
    "comments = list()\n",
    "api_obj = build('youtube', 'v3', developerKey=api_key)\n",
    "response = api_obj.commentThreads().list(part='snippet,replies', videoId=video_id, maxResults=100).execute()\n",
    " \n",
    "while response:\n",
    "    for item in response['items']:\n",
    "        comment = item['snippet']['topLevelComment']['snippet']\n",
    "        comments.append([comment['textDisplay'], comment['authorDisplayName'], comment['publishedAt'], comment['likeCount']])\n",
    "\n",
    "#         if item['snippet']['totalReplyCount'] > 0:\n",
    "#             for reply_item in item['replies']['comments']:\n",
    "#                 reply = reply_item['snippet']\n",
    "#                 comments.append([reply['textDisplay'], reply['authorDisplayName'], reply['publishedAt'], reply['likeCount']])\n",
    " \n",
    "    if 'nextPageToken' in response:\n",
    "        response = api_obj.commentThreads().list(part='snippet,replies', videoId=video_id, pageToken=response['nextPageToken'], maxResults=100).execute()\n",
    "    else:\n",
    "        break\n",
    "\n",
    "df = pd.DataFrame(comments)\n",
    "df.to_excel('results.xlsx', header=['comment', 'author', 'date', 'num_likes'], index=None)"
   ]
  },
  {
   "cell_type": "code",
   "execution_count": 5,
   "id": "92dd1416",
   "metadata": {},
   "outputs": [
    {
     "data": {
      "text/html": [
       "<div>\n",
       "<style scoped>\n",
       "    .dataframe tbody tr th:only-of-type {\n",
       "        vertical-align: middle;\n",
       "    }\n",
       "\n",
       "    .dataframe tbody tr th {\n",
       "        vertical-align: top;\n",
       "    }\n",
       "\n",
       "    .dataframe thead th {\n",
       "        text-align: right;\n",
       "    }\n",
       "</style>\n",
       "<table border=\"1\" class=\"dataframe\">\n",
       "  <thead>\n",
       "    <tr style=\"text-align: right;\">\n",
       "      <th></th>\n",
       "      <th>comment</th>\n",
       "      <th>author</th>\n",
       "      <th>date</th>\n",
       "      <th>num_likes</th>\n",
       "    </tr>\n",
       "  </thead>\n",
       "  <tbody>\n",
       "    <tr>\n",
       "      <th>0</th>\n",
       "      <td>조선소 이야기한번해주세요 한국조선소 일하는사람가족 까지하면 100만명인데ㅋ</td>\n",
       "      <td>김종욱</td>\n",
       "      <td>2022-07-01T09:59:56Z</td>\n",
       "      <td>0</td>\n",
       "    </tr>\n",
       "    <tr>\n",
       "      <th>1</th>\n",
       "      <td>윤모씨~&amp;quot;한국 경제 위기 대안 없어&amp;quot;&lt;br&gt;대한민국 국민들 알아서...</td>\n",
       "      <td>Andrea Kim</td>\n",
       "      <td>2022-07-01T09:32:25Z</td>\n",
       "      <td>1</td>\n",
       "    </tr>\n",
       "    <tr>\n",
       "      <th>2</th>\n",
       "      <td>썸넬.. 하..</td>\n",
       "      <td>Hyesung Kim</td>\n",
       "      <td>2022-07-01T09:26:31Z</td>\n",
       "      <td>1</td>\n",
       "    </tr>\n",
       "    <tr>\n",
       "      <th>3</th>\n",
       "      <td>???:아빠 왜 주식에 투자했어</td>\n",
       "      <td>Z OM</td>\n",
       "      <td>2022-07-01T09:22:29Z</td>\n",
       "      <td>0</td>\n",
       "    </tr>\n",
       "    <tr>\n",
       "      <th>4</th>\n",
       "      <td>오늘 22찍었다가 간신히 05로 마무리~</td>\n",
       "      <td>이호산</td>\n",
       "      <td>2022-07-01T08:50:47Z</td>\n",
       "      <td>2</td>\n",
       "    </tr>\n",
       "  </tbody>\n",
       "</table>\n",
       "</div>"
      ],
      "text/plain": [
       "                                             comment       author  \\\n",
       "0          조선소 이야기한번해주세요 한국조선소 일하는사람가족 까지하면 100만명인데ㅋ          김종욱   \n",
       "1  윤모씨~&quot;한국 경제 위기 대안 없어&quot;<br>대한민국 국민들 알아서...   Andrea Kim   \n",
       "2                                           썸넬.. 하..  Hyesung Kim   \n",
       "3                                  ???:아빠 왜 주식에 투자했어         Z OM   \n",
       "4                             오늘 22찍었다가 간신히 05로 마무리~          이호산   \n",
       "\n",
       "                   date  num_likes  \n",
       "0  2022-07-01T09:59:56Z          0  \n",
       "1  2022-07-01T09:32:25Z          1  \n",
       "2  2022-07-01T09:26:31Z          1  \n",
       "3  2022-07-01T09:22:29Z          0  \n",
       "4  2022-07-01T08:50:47Z          2  "
      ]
     },
     "execution_count": 5,
     "metadata": {},
     "output_type": "execute_result"
    }
   ],
   "source": [
    "df = pd.read_excel('results.xlsx')\n",
    "df.head()"
   ]
  },
  {
   "cell_type": "code",
   "execution_count": 6,
   "id": "da4a12cd",
   "metadata": {},
   "outputs": [
    {
     "name": "stdout",
     "output_type": "stream",
     "text": [
      "<class 'pandas.core.frame.DataFrame'>\n",
      "RangeIndex: 751 entries, 0 to 750\n",
      "Data columns (total 4 columns):\n",
      " #   Column     Non-Null Count  Dtype \n",
      "---  ------     --------------  ----- \n",
      " 0   comment    751 non-null    object\n",
      " 1   author     751 non-null    object\n",
      " 2   date       751 non-null    object\n",
      " 3   num_likes  751 non-null    int64 \n",
      "dtypes: int64(1), object(3)\n",
      "memory usage: 23.6+ KB\n"
     ]
    }
   ],
   "source": [
    "df.info()"
   ]
  },
  {
   "cell_type": "code",
   "execution_count": null,
   "id": "65b88e45",
   "metadata": {},
   "outputs": [],
   "source": []
  }
 ],
 "metadata": {
  "kernelspec": {
   "display_name": "KRX",
   "language": "python",
   "name": "krx"
  },
  "language_info": {
   "codemirror_mode": {
    "name": "ipython",
    "version": 3
   },
   "file_extension": ".py",
   "mimetype": "text/x-python",
   "name": "python",
   "nbconvert_exporter": "python",
   "pygments_lexer": "ipython3",
   "version": "3.10.4"
  }
 },
 "nbformat": 4,
 "nbformat_minor": 5
}
